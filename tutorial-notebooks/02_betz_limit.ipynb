{
 "cells": [
  {
   "cell_type": "markdown",
   "metadata": {},
   "source": [
    "# Tutorial 2: Betz Limit\n",
    "\n",
    "Now that we have ran a simple calculator model using WISDEM, let's look at OpenMDAO. [OpenMDAO](http://openmdao.org) is the code that connects the various components of turbine models into a cohesive whole that can be optimized in systems engineering problems. WISDEM uses OpenMDAO to build up modular *components* and *groups* of components to represent a wind turbine.  Fortunately, OpenMDAO already provides some excellenet training examples on their [website](http://openmdao.org).  This tutorial is based on the OpenMDAO example, [Optimizing an Actuator Disk Model to Find Betz Limit for Wind Turbines](http://openmdao.org/twodocs/versions/latest/examples/betz_limit/betz.html), which we have extracted and added some additional commentary. The aim of this tutorial is to summarize the key points you'll use to create basic WISDEM models.  For those interested in WISDEM development, getting comfortable with all of the core OpenMDAO training examples is strongly encouraged.\n",
    "\n",
    "A classic problem of wind energy engineering is the Betz limit. This is the theoretical upper limit of power that can be extracted from wind by an idealized rotor. While a full explanation is beyond the scope of this tutorial, it is explained in many places online and in textbooks. One such explanation is on Wikipedia [https://en.wikipedia.org/wiki/Betz%27s_law](https://en.wikipedia.org/wiki/Betz%27s_law) .\n",
    "\n",
    "## Problem formulation\n",
    "\n",
    "According to the Betz limit, the maximum power a turbine can extract from wind is:\n",
    "\n",
    "$$ C_p = \\frac{16}{27} \\approx 0.593 $$\n",
    "\n",
    "Where \\\\(C_p\\\\) is the coefficient of power.\n",
    "\n",
    "We will compute this limit using OpenMDAO by optimizing the power coefficient as a function of the induction factor (ratio of rotor plane velocity to freestream velocity) and a model of an idealized rotor using an actuator disk.\n",
    "\n",
    "Here is our actuator disc:\n",
    "\n",
    "![actuator disc](img/actuator_disc.png)\n",
    "\n",
    "Where \\\\(V_u\\\\) freestream air velocity, upstream of rotor, \\\\(V_r\\\\) is air velocity at rotor exit plane and \\\\(V_d\\\\) is slipstream air velocity downstream of rotor, all measured in \\\\(\\frac{m}{s}\\\\).\n",
    "\n",
    "There are few other variables we'll have:\n",
    "\n",
    "- \\\\(a\\\\): Induced Velocity Factor\n",
    "- *Area*: Rotor disc area in \\\\(m^2\\\\)\n",
    "- *thrust*: Thrust produced by the rotor in N\n",
    "- \\\\(C_t\\\\): Thrust coefficient\n",
    "- *power*: Power produced by rotor in *W*\n",
    "- \\\\(\\rho\\\\): Air density in \\\\(kg /m^3\\\\)\n",
    "\n",
    "Before we start in on the source code, let's look at a few key snippets of the code\n",
    "\n",
    "## OpenMDAO implementation\n",
    "First we need to import OpenMDAO"
   ]
  },
  {
   "cell_type": "code",
   "execution_count": 3,
   "metadata": {},
   "outputs": [],
   "source": [
    "import openmdao.api as om"
   ]
  },
  {
   "cell_type": "markdown",
   "metadata": {},
   "source": [
    "Now we can make an `ActuatorDisc` class that models the actuator disc for the optimization."
   ]
  },
  {
   "cell_type": "code",
   "execution_count": 4,
   "metadata": {},
   "outputs": [],
   "source": [
    "class ActuatorDisc(om.ExplicitComponent):\n",
    "    def setup(self):\n",
    "        # Inputs into the the model\n",
    "        self.add_input('a', 0.5, desc='Indcued velocity factor')\n",
    "        self.add_input('Area', 10.0, units='m**2', desc='Rotor disc area')\n",
    "        self.add_input('rho', 1.225, units='kg/m**3', desc='Air density')\n",
    "        self.add_input('Vu', 10.0, units='m/s', desc='Freestream air velocity, upstream of rotor')\n",
    "\n",
    "        # Outputs\n",
    "        self.add_output('Vr', 0.0, units='m/s', desc='Air velocity at rotor exit plane')\n",
    "        self.add_output('Vd', 0.0, units='m/s', desc='Slipstream air velocity, downstream of rotor')\n",
    "        self.add_output('Ct', 0.0, desc='Thrust coefficient')\n",
    "        self.add_output('Cp', 0.0, desc='Power coefficient')\n",
    "        self.add_output('power', 0.0, units='W', desc='Power produced by the rotor')\n",
    "        self.add_output('thrust', 0.0, units='m/s')\n",
    "\n",
    "        self.declare_partials('Vr', ['a', 'Vu'])\n",
    "        self.declare_partials('Vd', 'a')\n",
    "        self.declare_partials('Ct', 'a')\n",
    "        self.declare_partials('thrust', ['a', 'Area', 'rho', 'Vu'])\n",
    "        self.declare_partials('Cp', 'a')\n",
    "        self.declare_partials('power', ['a', 'Area', 'rho', 'Vu'])\n",
    "\n",
    "    def compute(self, inputs, outputs):\n",
    "        a = inputs['a']\n",
    "        Vu = inputs['Vu']\n",
    "        rho = inputs['rho']\n",
    "        Area = inputs['Area']\n",
    "        qA = 0.5 * rho * Area * Vu ** 2\n",
    "        outputs['Vd'] = Vd = Vu * (1 - 2 * a)\n",
    "        outputs['Vr'] = 0.5 * (Vu + Vd)\n",
    "        outputs['Ct'] = Ct = 4 * a * (1 - a)\n",
    "        outputs['thrust'] = Ct * qA\n",
    "        outputs['Cp'] = Cp = Ct * (1 - a)\n",
    "        outputs['power'] = Cp * qA * Vu\n",
    "        \n",
    "    def compute_partials(self, inputs, J):\n",
    "        a = inputs['a']\n",
    "        Vu = inputs['Vu']\n",
    "        Area = inputs['Area']\n",
    "        rho = inputs['rho']\n",
    "\n",
    "        a_times_area = a * Area\n",
    "        one_minus_a = 1.0 - a\n",
    "        a_area_rho_vu = a_times_area * rho * Vu\n",
    " \n",
    "        J['Vr', 'a'] = -Vu\n",
    "        J['Vr', 'Vu'] = one_minus_a\n",
    "        J['Vd', 'a'] = -2.0 * Vu\n",
    "        J['Ct', 'a'] = 4.0 - 8.0 * a\n",
    "        J['thrust', 'a'] = 0.5 * rho * Vu**2 * Area * J['Ct', 'a']\n",
    "        J['thrust', 'Area'] = 2.0 * Vu**2 * a * rho * one_minus_a\n",
    "        J['thrust', 'Vu'] = 4.0 * a_area_rho_vu * one_minus_a\n",
    "        J['Cp', 'a'] = 4.0 * a * (2.0 * a - 2.0) + 4.0 * one_minus_a**2\n",
    "        J['power', 'a'] = 2.0 * Area * Vu**3 * a * rho * (2.0 * a - 2.0) + 2.0 * Area * Vu**3 * rho * one_minus_a**2\n",
    "        J['power', 'Area'] = 2.0 * Vu**3 * a * rho * one_minus_a ** 2\n",
    "        J['power', 'rho'] = 2.0 * a_times_area * Vu ** 3 * (one_minus_a)**2\n",
    "        J['power', 'Vu'] = 6.0 * Area * Vu**2 * a * rho * one_minus_a**2"
   ]
  },
  {
   "cell_type": "markdown",
   "metadata": {},
   "source": [
    "The class declaration, `class ActuatorDisc(om.ExplicitComponent):` shows that our class, `ActuatorDisc` inherits off of the `ExplicitComponent` class in OpenMDAO.  In WISDEM, 99% of all coded components are of the `ExplicitComponent` class, so this is the most fundamental building block to get accustomed to.  Other types of components are described in the OpenMDAO docs [here](http://openmdao.org/twodocs/versions/latest/_srcdocs/packages/openmdao.components.html).\n",
    "\n",
    "The `ExplicitComponent` class provides a template for the user to: \n",
    "- Declare their input and output variables in the `setup` method\n",
    "- Calculate the outputs from the inputs in the `compute` method.  In an optimization loop, this is called at every iteration.\n",
    "- Calculate analytical gradients of outputs with respect to inputs in the `compute_partials` method.\n",
    "\n",
    "The variable declarations take the form of `self.add_input` or `self.add_output` where a variable name and default/initial vaue is assigned.  The value declaration also tells the OpenMDAO internals about the size and shape for any vector or multi-dimensional variables.  Other optional keywords that can help with code documentation and model consistency are `units=` and `desc=`.\n",
    "\n",
    "### Working with analytical derivatives derivatives\n",
    "\n",
    "We need to tell OpenMDAO which derivatives will need to be computed. That happens in the following lines:\n",
    "\n",
    "```python\n",
    "self.declare_partials('Vr', ['a', 'Vu'])\n",
    "self.declare_partials('Vd', 'a')\n",
    "self.declare_partials('Ct', 'a')\n",
    "self.declare_partials('thrust', ['a', 'Area', 'rho', 'Vu'])\n",
    "self.declare_partials('Cp', 'a')\n",
    "self.declare_partials('power', ['a', 'Area', 'rho', 'Vu'])\n",
    "```\n",
    "\n",
    "Note that lines like `self.declare_partials('Vr', ['a', 'Vu'])` references both the derivatives \\\\(\\partial V_r / \\partial a\\\\) and \\\\(\\partial V_r / \\partial V_u\\\\).\n",
    "\n",
    "The Jacobian in which we provide solutions to the derivatives is\n",
    "\n",
    "```python\n",
    "J['Vr', 'a'] = -Vu\n",
    "J['Vr', 'Vu'] = one_minus_a\n",
    "J['Vd', 'a'] = -2.0 * Vu\n",
    "J['Ct', 'a'] = 4.0 - 8.0 * a\n",
    "J['thrust', 'a'] = 0.5 * rho * Vu**2 * Area * J['Ct', 'a']\n",
    "J['thrust', 'Area'] = 2.0 * Vu**2 * a * rho * one_minus_a\n",
    "J['thrust', 'Vu'] = 4.0 * a_area_rho_vu * one_minus_a\n",
    "J['Cp', 'a'] = 4.0 * a * (2.0 * a - 2.0) + 4.0 * one_minus_a**2\n",
    "J['power', 'a'] = 2.0 * Area * Vu**3 * a * rho * (2.0 * a - 2.0) + 2.0 * Area * Vu**3 * rho * one_minus_a**2\n",
    "J['power', 'Area'] = 2.0 * Vu**3 * a * rho * one_minus_a ** 2\n",
    "J['power', 'rho'] = 2.0 * a_times_area * Vu ** 3 * (one_minus_a)**2\n",
    "J['power', 'Vu'] = 6.0 * Area * Vu**2 * a * rho * one_minus_a**2\n",
    "```"
   ]
  },
  {
   "cell_type": "markdown",
   "metadata": {},
   "source": [
    "In OpenMDAO, multiple components can be connected together inside of a Group.  There will be some other new elements to review, so let's take a look:\n",
    "\n",
    "### Betz Group:"
   ]
  },
  {
   "cell_type": "code",
   "execution_count": 5,
   "metadata": {},
   "outputs": [],
   "source": [
    "class Betz(om.Group):\n",
    "    \"\"\"\n",
    "    Group containing the actuator disc equations for deriving the Betz limit.\n",
    "    \"\"\"\n",
    "\n",
    "    def setup(self):\n",
    "        indeps = self.add_subsystem('indeps', om.IndepVarComp(), promotes=['*'])\n",
    "        indeps.add_output('a', 0.5)\n",
    "        indeps.add_output('Area', 10.0, units='m**2')\n",
    "        indeps.add_output('rho', 1.225, units='kg/m**3')\n",
    "        indeps.add_output('Vu', 10.0, units='m/s')\n",
    "        \n",
    "        self.add_subsystem('a_disk', ActuatorDisc(), promotes=['a', 'Area', 'rho', 'Vu'])"
   ]
  },
  {
   "cell_type": "markdown",
   "metadata": {},
   "source": [
    "The `Betz` class derives off of the OpenMDAO `Group` class, which is typically the top-level class that is used in an analysis.  The OpenMDAO `Group` class allows you to cluster models in hierarchies. We can put multiple components in groups. We can also put other groups in groups.\n",
    "\n",
    "Components are added to groups with the `self.add_subsystem` command, which has two primary arguments.  The first is the string name to call the subsystem that is added and the second is the component or sub-group class instance.  A common optional argument is `promotes=`, which elevatest the input/ouput variable string names to the top-level namespace.  The `Betz` group shows examples where the `promotes=` can be passed a list of variable string names or the `'*'` wildcard to mean all input/output variables.\n",
    "\n",
    "The first subsystem that is added is an `IndepVarComp`, which are the independent variables of the problem.  Subsystem inputs that are not tied to other subsystem outputs should be connected to an independent variables.  For optimization problems, design variables must be part of an `IndepVarComp`.  In the Betz problem, we have `a`, `Area`, `rho`, and `Vu`.  Note that they are promoted to the top level namespace, otherwise we would have to access them by `'indeps.x'` and `'indeps.z'`.\n",
    "\n",
    "The next subsystem that is added is an instance of the component we created above:\n",
    "```python\n",
    "self.add_subsystem('a_disk', ActuatorDisc(), promotes=['a', 'Area', 'rho', 'Vu'])\n",
    "```\n",
    "\n",
    "The `promotes=` can also serve to connect variables.  In OpenMDAO, two variables with the same string name in the same namespace are automatically connected.  By promoting the same variable string names as in the `IndepCarComp`, they are automatically connected.  For variables that are not connected in this way, explicit connect statements are required, which is demonstrated in the next tutorial.\n",
    "## Let's optimize our system!\n",
    "\n",
    "Even though we have all the pieces in a `Group`, we still need to put them into a `Problem` to be executed.  The `Problem` instance is where we can assign design variables, objective functions, and constraints.  It is also how the user interacts with the `Group` to set initial conditions and interrogate output values.\n",
    "\n",
    "First, we instantiate the `Problem` and assign an instance of `Betz` to be the root model:"
   ]
  },
  {
   "cell_type": "code",
   "execution_count": 6,
   "metadata": {},
   "outputs": [],
   "source": [
    "prob = om.Problem()\n",
    "prob.model = Betz()"
   ]
  },
  {
   "cell_type": "markdown",
   "metadata": {},
   "source": [
    "Next we assign an optimization driver to the problem instance. If we only wanted to evaluate the model once and not optimize, then a driver is not needed:"
   ]
  },
  {
   "cell_type": "code",
   "execution_count": 7,
   "metadata": {},
   "outputs": [],
   "source": [
    "prob.driver = om.ScipyOptimizeDriver()\n",
    "prob.driver.options['optimizer'] = 'SLSQP'"
   ]
  },
  {
   "cell_type": "markdown",
   "metadata": {},
   "source": [
    "With the optimization driver in place, we can assign design variables, objective(s), and constraints. Any IndepVarComp can be a design variable and any model output can be an objective or constraint.\n",
    "\n",
    "We want to maximize the objective, but OpenMDAO will want to minimize it as it is consistent with the standard optimization problem statement. So we minimize the negative to find the maximum. Note that `Cp` is not promoted from `a_disk`. Therefore we must reference it with `a_disk.Cp`"
   ]
  },
  {
   "cell_type": "code",
   "execution_count": 8,
   "metadata": {},
   "outputs": [],
   "source": [
    "prob.model.add_design_var('a', lower=0.0, upper=1.0)\n",
    "prob.model.add_design_var('Area', lower=0.0, upper=1.0)\n",
    "prob.model.add_objective('a_disk.Cp', scaler=-1.0)"
   ]
  },
  {
   "cell_type": "markdown",
   "metadata": {},
   "source": [
    "Now we can run the optimization:"
   ]
  },
  {
   "cell_type": "code",
   "execution_count": 9,
   "metadata": {},
   "outputs": [
    {
     "name": "stdout",
     "output_type": "stream",
     "text": [
      "Optimization terminated successfully.    (Exit mode 0)\n",
      "            Current function value: -0.5925925906659251\n",
      "            Iterations: 5\n",
      "            Function evaluations: 6\n",
      "            Gradient evaluations: 5\n",
      "Optimization Complete\n",
      "-----------------------------------\n"
     ]
    },
    {
     "data": {
      "text/plain": [
       "False"
      ]
     },
     "execution_count": 9,
     "metadata": {},
     "output_type": "execute_result"
    }
   ],
   "source": [
    "prob.setup()\n",
    "prob.run_driver()"
   ]
  },
  {
   "cell_type": "markdown",
   "metadata": {},
   "source": [
    "## Finally, the result:\n",
    "Above, we see a summary of the steps in our optimization. Don't worry about the output `False` for now. Next, we print out the values we care about and list all of the inputs and outputs that are problem used. "
   ]
  },
  {
   "cell_type": "code",
   "execution_count": 11,
   "metadata": {},
   "outputs": [
    {
     "name": "stdout",
     "output_type": "stream",
     "text": [
      "Coefficient of power Cp =  [0.59259259]\n",
      "Induction factor a = [0.33335528]\n",
      "Rotor disc Area = [1.] m^2\n",
      "4 Input(s) in 'model'\n",
      "---------------------\n",
      "\n",
      "varname   value       \n",
      "--------  ------------\n",
      "top\n",
      "  a_disk\n",
      "    a     [0.33335528]\n",
      "    Area  [1.]        \n",
      "    rho   [1.225]     \n",
      "    Vu    [10.]       \n",
      "\n",
      "\n",
      "10 Explicit Output(s) in 'model'\n",
      "--------------------------------\n",
      "\n",
      "varname     value         \n",
      "----------  --------------\n",
      "top\n",
      "  indeps\n",
      "    a       [0.33335528]  \n",
      "    Area    [1.]          \n",
      "    rho     [1.225]       \n",
      "    Vu      [10.]         \n",
      "  a_disk\n",
      "    Vr      [6.6664472]   \n",
      "    Vd      [3.33289439]  \n",
      "    Ct      [0.88891815]  \n",
      "    Cp      [0.59259259]  \n",
      "    power   [362.96296178]\n",
      "    thrust  [54.44623668] \n",
      "\n",
      "\n",
      "0 Implicit Output(s) in 'model'\n",
      "-------------------------------\n",
      "\n"
     ]
    }
   ],
   "source": [
    "print('Coefficient of power Cp = ', prob['a_disk.Cp'])\n",
    "print('Induction factor a =', prob['a'])\n",
    "print('Rotor disc Area =', prob['Area'], 'm^2')\n",
    "all_inputs  = prob.model.list_inputs(values=True)\n",
    "all_outputs = prob.model.list_outputs(values=True)"
   ]
  },
  {
   "cell_type": "markdown",
   "metadata": {},
   "source": [
    "And there we have it. This matched the Betz limit of:\n",
    "\n",
    "$$ C_p = \\frac{16}{27} \\approx 0.593 $$"
   ]
  }
 ],
 "metadata": {
  "kernelspec": {
   "display_name": "Python 3",
   "language": "python",
   "name": "python3"
  },
  "language_info": {
   "codemirror_mode": {
    "name": "ipython",
    "version": 3
   },
   "file_extension": ".py",
   "mimetype": "text/x-python",
   "name": "python",
   "nbconvert_exporter": "python",
   "pygments_lexer": "ipython3",
   "version": "3.7.4"
  }
 },
 "nbformat": 4,
 "nbformat_minor": 4
}
