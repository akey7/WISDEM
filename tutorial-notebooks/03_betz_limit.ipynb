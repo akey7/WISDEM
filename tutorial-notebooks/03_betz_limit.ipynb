{
 "cells": [
  {
   "cell_type": "markdown",
   "metadata": {},
   "source": [
    "# Tutorial 3: Betz Limit\n",
    "\n",
    "Now that we have ran a couple simple models using WISDEM, let's look at OpenMDAO2. OpenMDAO2 is the code that connects the various components of turbine models into a cohesive whole that can be optimized in systems engineering problems.\n",
    "\n",
    "One of the key features of OpenMDAO2 is the concept of a *subsystem*. Another key feature is a *component*. These connect together to define optimization problems.\n",
    "\n",
    "A classic problem of wind energy engineering is the Betz limit. This is the theoretical limit of power that can be extracted from wind by an idealized rotor. While a full explanation is beyond the scope of this tutorial, it is explained in many places online and in textbooks. One such explanation is on Wikipedia [https://en.wikipedia.org/wiki/Betz%27s_law](https://en.wikipedia.org/wiki/Betz%27s_law) This tutorial is based on [Optimizing an Actuator Disk Model to Find Betz Limit for Wind Turbines](http://openmdao.org/twodocs/versions/latest/examples/betz_limit/betz.html) in the OpenMDAO 2 documentation.\n",
    "\n",
    "## Problem setup\n",
    "\n",
    "According to the Betz limit, the maximum power a turbine can extract from wind is:\n",
    "\n",
    "$$ C_p = \\frac{16}{27} \\approx 0.593 $$\n",
    "\n",
    "Where \\\\(C_p\\\\) is the coefficient of power.\n",
    "\n",
    "We will compute this limit using OpenMDAO 2 and a model of an idealized rotor using an actuator disk.\n",
    "\n",
    "Here is our actuator disc:\n",
    "\n",
    "![actuator disc](img/actuator_disc.png)\n",
    "\n",
    "Where \\\\(V_u\\\\) freestream air velocity, upstream of rotor, \\\\(V_r\\\\) is air velocity at rotor exit plane and \\\\(V_d\\\\) is slipstream air velocity downstream of rotor, all measured in \\\\(\\frac{m}{s}\\\\).\n",
    "\n",
    "There are few other variables we'll have:\n",
    "\n",
    "- \\\\(a\\\\): Induced Velocity Factor\n",
    "- *Area*: Rotor disc area in \\\\(m^2\\\\)\n",
    "- *thrust*: Thrust produced by the rotor in N\n",
    "- \\\\(C_t\\\\): Thrust coefficient\n",
    "- *power*: Power produced by rotor in *W*\n",
    "- \\\\(\\rho\\\\): Air density in \\\\(kg /m^3\\\\)\n",
    "\n",
    "Before we start in on the source code, let's look at a few key snippets of the code\n",
    "\n",
    "## Declare your derivatives\n",
    "\n",
    "We need to tell OpenMDAO which derivatives will need to be computed. That happens in the following lines:\n",
    "\n",
    "```python\n",
    "self.declare_partials('Vr', ['a', 'Vu'])\n",
    "self.declare_partials('Vd', 'a')\n",
    "self.declare_partials('Ct', 'a')\n",
    "self.declare_partials('thrust', ['a', 'Area', 'rho', 'Vu'])\n",
    "self.declare_partials('Cp', 'a')\n",
    "self.declare_partials('power', ['a', 'Area', 'rho', 'Vu'])\n",
    "```\n",
    "\n",
    "Note that lines like `self.declare_partials('Vr', ['a', 'Vu'])` references both the derivatives \\\\(\\partial V_r / \\partial a\\\\) and \\\\(\\partial V_r / \\partial V_u\\\\).\n",
    "\n",
    "The Jacobian in which we provide solutions to the derivatives is\n",
    "\n",
    "```python\n",
    "J['Vr', 'a'] = -Vu\n",
    "J['Vr', 'Vu'] = one_minus_a\n",
    "J['Vd', 'a'] = -2.0 * Vu\n",
    "J['Ct', 'a'] = 4.0 - 8.0 * a\n",
    "J['thrust', 'a'] = 0.5 * rho * Vu**2 * Area * J['Ct', 'a']\n",
    "J['thrust', 'Area'] = 2.0 * Vu**2 * a * rho * one_minus_a\n",
    "J['thrust', 'Vu'] = 4.0 * a_area_rho_vu * one_minus_a\n",
    "J['Cp', 'a'] = 4.0 * a * (2.0 * a - 2.0) + 4.0 * one_minus_a**2\n",
    "J['power', 'a'] = 2.0 * Area * Vu**3 * a * rho * (2.0 * a - 2.0) + 2.0 * Area * Vu**3 * rho * one_minus_a**2\n",
    "J['power', 'Area'] = 2.0 * Vu**3 * a * rho * one_minus_a ** 2\n",
    "J['power', 'rho'] = 2.0 * a_times_area * Vu ** 3 * (one_minus_a)**2\n",
    "J['power', 'Vu'] = 6.0 * Area * Vu**2 * a * rho * one_minus_a**2\n",
    "```\n",
    "\n",
    "Now we can make an `ActuatorDisc` class that models the actuator disc for the optimization."
   ]
  },
  {
   "cell_type": "code",
   "execution_count": 1,
   "metadata": {},
   "outputs": [],
   "source": [
    "import openmdao.api as om\n",
    "\n",
    "class ActuatorDisc(om.ExplicitComponent):\n",
    "    def setup(self):\n",
    "        # Inputs into the the model\n",
    "        self.add_input('a', 0.5, desc='Indcued velocity factor')\n",
    "        self.add_input('Area', 10.0, units='m**2', desc='Rotor disc area')\n",
    "        self.add_input('rho', 1.225, units='kg/m**3', desc='Air density')\n",
    "        self.add_input('Vu', 10.0, units='m/s', desc='Freestream air velocity, upstream of rotor')\n",
    "\n",
    "        # Outputs\n",
    "        self.add_output('Vr', 0.0, units='m/s', desc='Air velocity at rotor exit plane')\n",
    "        self.add_output('Vd', 0.0, units='m/s', desc='Slipstream air velocity, downstream of rotor')\n",
    "        self.add_output('Ct', 0.0, desc='Thrust coefficient')\n",
    "        self.add_output('Cp', 0.0, desc='Power coefficient')\n",
    "        self.add_output('power', 0.0, units='W', desc='Power produced by the rotor')\n",
    "        self.add_output('thrust', 0.0, units='m/s')\n",
    "\n",
    "        self.declare_partials('Vr', ['a', 'Vu'])\n",
    "        self.declare_partials('Vd', 'a')\n",
    "        self.declare_partials('Ct', 'a')\n",
    "        self.declare_partials('thrust', ['a', 'Area', 'rho', 'Vu'])\n",
    "        self.declare_partials('Cp', 'a')\n",
    "        self.declare_partials('power', ['a', 'Area', 'rho', 'Vu'])\n",
    "\n",
    "    def compute(self, inputs, outputs):\n",
    "        a = inputs['a']\n",
    "        Vu = inputs['Vu']\n",
    "        rho = inputs['rho']\n",
    "        Area = inputs['Area']\n",
    "        qA = 0.5 * rho * Area * Vu ** 2\n",
    "        outputs['Vd'] = Vd = Vu * (1 - 2 * a)\n",
    "        outputs['Vr'] = 0.5 * (Vu + Vd)\n",
    "        outputs['Ct'] = Ct = 4 * a * (1 - a)\n",
    "        outputs['thrust'] = Ct * qA\n",
    "        outputs['Cp'] = Cp = Ct * (1 - a)\n",
    "        outputs['power'] = Cp * qA * Vu\n",
    "        \n",
    "    def compute_partials(self, inputs, J):\n",
    "        a = inputs['a']\n",
    "        Vu = inputs['Vu']\n",
    "        Area = inputs['Area']\n",
    "        rho = inputs['rho']\n",
    "\n",
    "        a_times_area = a * Area\n",
    "        one_minus_a = 1.0 - a\n",
    "        a_area_rho_vu = a_times_area * rho * Vu\n",
    " \n",
    "        J['Vr', 'a'] = -Vu\n",
    "        J['Vr', 'Vu'] = one_minus_a\n",
    "        J['Vd', 'a'] = -2.0 * Vu\n",
    "        J['Ct', 'a'] = 4.0 - 8.0 * a\n",
    "        J['thrust', 'a'] = 0.5 * rho * Vu**2 * Area * J['Ct', 'a']\n",
    "        J['thrust', 'Area'] = 2.0 * Vu**2 * a * rho * one_minus_a\n",
    "        J['thrust', 'Vu'] = 4.0 * a_area_rho_vu * one_minus_a\n",
    "        J['Cp', 'a'] = 4.0 * a * (2.0 * a - 2.0) + 4.0 * one_minus_a**2\n",
    "        J['power', 'a'] = 2.0 * Area * Vu**3 * a * rho * (2.0 * a - 2.0) + 2.0 * Area * Vu**3 * rho * one_minus_a**2\n",
    "        J['power', 'Area'] = 2.0 * Vu**3 * a * rho * one_minus_a ** 2\n",
    "        J['power', 'rho'] = 2.0 * a_times_area * Vu ** 3 * (one_minus_a)**2\n",
    "        J['power', 'Vu'] = 6.0 * Area * Vu**2 * a * rho * one_minus_a**2"
   ]
  },
  {
   "cell_type": "markdown",
   "metadata": {},
   "source": [
    "### Now, we can add this as a subsystem to an optimization\n",
    "\n",
    "First, we create a new problem to optimize."
   ]
  },
  {
   "cell_type": "code",
   "execution_count": 2,
   "metadata": {},
   "outputs": [],
   "source": [
    "prob = om.Problem()"
   ]
  },
  {
   "cell_type": "markdown",
   "metadata": {},
   "source": [
    "Now make some independent input variables. Note that they are called \"outputs\" from the point of view of the rest of the problm, which gets the independent variables from the outputs of an `om.IndepVarComp` component. In essence, this is like defining a bunch of independent variables and publishing them to the rest of the problem."
   ]
  },
  {
   "cell_type": "code",
   "execution_count": 3,
   "metadata": {},
   "outputs": [],
   "source": [
    "indeps = prob.model.add_subsystem('indeps', om.IndepVarComp(), promotes=['*'])\n",
    "indeps.add_output('a', 0.5)\n",
    "indeps.add_output('Area', 10.0, units='m**2')\n",
    "indeps.add_output('rho', 1.225, units='kg/m**3')\n",
    "indeps.add_output('Vu', 10.0, units='m/s')"
   ]
  },
  {
   "cell_type": "markdown",
   "metadata": {},
   "source": [
    "The ActuatorDisc model we created above needs the inputs specified in this line. OpenMDAO will detect the promoted OUTPUTS of 'indeps' and connect them to the promoted INPUTS of 'a_disk'."
   ]
  },
  {
   "cell_type": "code",
   "execution_count": 5,
   "metadata": {},
   "outputs": [
    {
     "data": {
      "text/plain": [
       "<__main__.ActuatorDisc at 0x11021f0f0>"
      ]
     },
     "execution_count": 5,
     "metadata": {},
     "output_type": "execute_result"
    }
   ],
   "source": [
    "prob.model.add_subsystem('a_disk', ActuatorDisc(), promotes_inputs=['a', 'Area', 'rho', 'Vu'])"
   ]
  },
  {
   "cell_type": "markdown",
   "metadata": {},
   "source": [
    "Next, we set up an optimizer:"
   ]
  },
  {
   "cell_type": "code",
   "execution_count": 6,
   "metadata": {},
   "outputs": [],
   "source": [
    "prob.driver = om.ScipyOptimizeDriver()\n",
    "prob.driver.options['optimizer'] = 'SLSQP'\n",
    "prob.model.add_design_var('a', lower=0.0, upper=1.0)\n",
    "prob.model.add_design_var('Area', lower=0.0, upper=1.0)"
   ]
  },
  {
   "cell_type": "markdown",
   "metadata": {},
   "source": [
    "We want to maximize the objective, but OpenMDAO will want to minimize it. So we minimize the negative to find the maximum. Note that `Cp` is not promoted from `a_disk`. Therefore we must reference it with `a_disk.Cp`"
   ]
  },
  {
   "cell_type": "code",
   "execution_count": 7,
   "metadata": {},
   "outputs": [],
   "source": [
    "prob.model.add_objective('a_disk.Cp', scaler=-1.0)"
   ]
  },
  {
   "cell_type": "markdown",
   "metadata": {},
   "source": [
    "Now we can run the optimization:"
   ]
  },
  {
   "cell_type": "code",
   "execution_count": 8,
   "metadata": {},
   "outputs": [
    {
     "name": "stdout",
     "output_type": "stream",
     "text": [
      "Optimization terminated successfully.    (Exit mode 0)\n",
      "            Current function value: -0.5925925906659251\n",
      "            Iterations: 5\n",
      "            Function evaluations: 6\n",
      "            Gradient evaluations: 5\n",
      "Optimization Complete\n",
      "-----------------------------------\n"
     ]
    },
    {
     "data": {
      "text/plain": [
       "False"
      ]
     },
     "execution_count": 8,
     "metadata": {},
     "output_type": "execute_result"
    }
   ],
   "source": [
    "prob.setup()\n",
    "prob.run_driver()"
   ]
  },
  {
   "cell_type": "markdown",
   "metadata": {},
   "source": [
    "Above, we see a summary of the steps in our optimization. Don't worry about the output `False` for now. Next, we list the inputs and outputs that are problem used. Look at the outputs that are defined from our component with our independent variables and our `compute()` method in the class `ActuatorDisc`:"
   ]
  },
  {
   "cell_type": "code",
   "execution_count": 12,
   "metadata": {},
   "outputs": [
    {
     "name": "stdout",
     "output_type": "stream",
     "text": [
      "4 Input(s) in 'model'\n",
      "---------------------\n",
      "\n",
      "varname    \n",
      "-----------\n",
      "a_disk.a   \n",
      "a_disk.Area\n",
      "a_disk.rho \n",
      "a_disk.Vu  \n",
      "\n",
      "\n",
      "10 Explicit Output(s) in 'model'\n",
      "--------------------------------\n",
      "\n",
      "varname      \n",
      "-------------\n",
      "indeps.a     \n",
      "indeps.Area  \n",
      "indeps.rho   \n",
      "indeps.Vu    \n",
      "a_disk.Vr    \n",
      "a_disk.Vd    \n",
      "a_disk.Ct    \n",
      "a_disk.Cp    \n",
      "a_disk.power \n",
      "a_disk.thrust\n",
      "\n",
      "\n",
      "0 Implicit Output(s) in 'model'\n",
      "-------------------------------\n",
      "\n"
     ]
    },
    {
     "data": {
      "text/plain": [
       "[('indeps.a', {}),\n",
       " ('indeps.Area', {}),\n",
       " ('indeps.rho', {}),\n",
       " ('indeps.Vu', {}),\n",
       " ('a_disk.Vr', {}),\n",
       " ('a_disk.Vd', {}),\n",
       " ('a_disk.Ct', {}),\n",
       " ('a_disk.Cp', {}),\n",
       " ('a_disk.power', {}),\n",
       " ('a_disk.thrust', {})]"
      ]
     },
     "execution_count": 12,
     "metadata": {},
     "output_type": "execute_result"
    }
   ],
   "source": [
    "prob.model.list_inputs(values=False, hierarchical=False)\n",
    "prob.model.list_outputs(values=False, hierarchical=False)"
   ]
  },
  {
   "cell_type": "markdown",
   "metadata": {},
   "source": [
    "## Finally, the result:"
   ]
  },
  {
   "cell_type": "code",
   "execution_count": 13,
   "metadata": {},
   "outputs": [
    {
     "name": "stdout",
     "output_type": "stream",
     "text": [
      "Coefficient of power Cp = [0.59259259]\n",
      "Induction factor a=[0.33335528]\n",
      "Rotor disc Area=[1.] m^2\n"
     ]
    }
   ],
   "source": [
    "print(f\"Coefficient of power Cp = {prob['a_disk.Cp']}\")\n",
    "print(f\"Induction factor a={prob['a']}\")\n",
    "print(f\"Rotor disc Area={prob['Area']} m^2\")"
   ]
  },
  {
   "cell_type": "markdown",
   "metadata": {},
   "source": [
    "And there we have it. This matched the Betz limit of:\n",
    "\n",
    "$$ C_p = \\frac{16}{27} \\approx 0.593 $$"
   ]
  },
  {
   "cell_type": "code",
   "execution_count": null,
   "metadata": {},
   "outputs": [],
   "source": []
  }
 ],
 "metadata": {
  "kernelspec": {
   "display_name": "Python 3",
   "language": "python",
   "name": "python3"
  },
  "language_info": {
   "codemirror_mode": {
    "name": "ipython",
    "version": 3
   },
   "file_extension": ".py",
   "mimetype": "text/x-python",
   "name": "python",
   "nbconvert_exporter": "python",
   "pygments_lexer": "ipython3",
   "version": "3.7.4"
  }
 },
 "nbformat": 4,
 "nbformat_minor": 4
}
